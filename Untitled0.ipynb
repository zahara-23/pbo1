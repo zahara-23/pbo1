{
  "nbformat": 4,
  "nbformat_minor": 0,
  "metadata": {
    "colab": {
      "provenance": [],
      "authorship_tag": "ABX9TyNuXuyZj3wnDH3rdsOp+i7s",
      "include_colab_link": true
    },
    "kernelspec": {
      "name": "python3",
      "display_name": "Python 3"
    },
    "language_info": {
      "name": "python"
    }
  },
  "cells": [
    {
      "cell_type": "markdown",
      "metadata": {
        "id": "view-in-github",
        "colab_type": "text"
      },
      "source": [
        "<a href=\"https://colab.research.google.com/github/zahara-23/pbo1/blob/main/Untitled0.ipynb\" target=\"_parent\"><img src=\"https://colab.research.google.com/assets/colab-badge.svg\" alt=\"Open In Colab\"/></a>"
      ]
    },
    {
      "cell_type": "code",
      "execution_count": null,
      "metadata": {
        "id": "0eDC89hmtSoP"
      },
      "outputs": [],
      "source": [
        "class Buku:\n",
        "    def __init__(self, judul, penulis):\n",
        "        self.judul = judul\n",
        "        self.penulis = penulis\n",
        "\n",
        "    def deskripsi_buku(self):\n",
        "        print(f\"Buku '{self.judul}' ditulis oleh {self.penulis}.\")\n",
        "\n",
        "buku1 = Buku(\"Belajar Python\", \"Ali\")\n",
        "buku1.deskripsi_buku()"
      ]
    },
    {
      "cell_type": "code",
      "source": [
        "import math\n",
        "\n",
        "class Lingkaran:\n",
        "    def __init__(self):\n",
        "        self.jari_jari = 0.0\n",
        "\n",
        "def main():\n",
        "    obj = Lingkaran()\n",
        "\n",
        "    obj.jari_jari = 5\n",
        "\n",
        "    luas = math.pi * (obj.jari_jari ** 2)\n",
        "    print('Luas lingkaran = %.2f' % luas)\n",
        "\n",
        "if __name__ == '__main__':\n",
        "    main()"
      ],
      "metadata": {
        "id": "c4yet1Y4uizS"
      },
      "execution_count": null,
      "outputs": []
    },
    {
      "cell_type": "code",
      "source": [
        "class Mobil:\n",
        "    def __init__(self, merk, tahun):\n",
        "        self.merk = merk\n",
        "        self.tahun = tahun\n",
        "\n",
        "    def info_mobil(self):\n",
        "        print(f\"Mobil {self.merk} keluaran tahun {self.tahun}.\")\n",
        "\n",
        "mobil1 = Mobil(\"Toyota\", 2020)\n",
        "mobil1.info_mobil()"
      ],
      "metadata": {
        "id": "RtNyr_8Zulav"
      },
      "execution_count": null,
      "outputs": []
    },
    {
      "cell_type": "code",
      "source": [
        "class Persegi:\n",
        "    def __init__(self):\n",
        "        self.sisi = 0.0\n",
        "\n",
        "def main():\n",
        "    obj = Persegi()\n",
        "\n",
        "    obj.sisi = 4\n",
        "\n",
        "    luas = obj.sisi ** 2\n",
        "    print('Luas persegi = %.2f' % luas)\n",
        "\n",
        "if __name__ == '__main__':\n",
        "    main()"
      ],
      "metadata": {
        "id": "oiBX_b3cuqX7"
      },
      "execution_count": null,
      "outputs": []
    },
    {
      "cell_type": "code",
      "source": [
        "class PersegiPanjang:\n",
        "    def __init__(self):\n",
        "        self.panjang = 0.0\n",
        "        self.lebar = 0.0\n",
        "\n",
        "def main():\n",
        "    obj = PersegiPanjang()\n",
        "\n",
        "    obj.panjang = 6\n",
        "    obj.lebar = 4\n",
        "\n",
        "    luas = obj.panjang * obj.lebar\n",
        "    print('Luas persegi panjang = %.2f' % luas)\n",
        "\n",
        "if __name__ == '__main__':\n",
        "    main()"
      ],
      "metadata": {
        "id": "O6zA8F3yuwoI"
      },
      "execution_count": null,
      "outputs": []
    }
  ]
}